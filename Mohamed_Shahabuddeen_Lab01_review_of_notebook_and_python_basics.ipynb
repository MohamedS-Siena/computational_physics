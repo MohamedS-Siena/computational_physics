{
  "nbformat": 4,
  "nbformat_minor": 0,
  "metadata": {
    "colab": {
      "provenance": [],
      "include_colab_link": true
    },
    "kernelspec": {
      "name": "python3",
      "display_name": "Python 3"
    }
  },
  "cells": [
    {
      "cell_type": "markdown",
      "metadata": {
        "id": "view-in-github",
        "colab_type": "text"
      },
      "source": [
        "<a href=\"https://colab.research.google.com/github/MohamedS-Siena/computational_physics/blob/main/Mohamed_Shahabuddeen_Lab01_review_of_notebook_and_python_basics.ipynb\" target=\"_parent\"><img src=\"https://colab.research.google.com/assets/colab-badge.svg\" alt=\"Open In Colab\"/></a>"
      ]
    },
    {
      "cell_type": "markdown",
      "metadata": {
        "id": "36eTMfu05klo"
      },
      "source": [
        "# Lab 1: Python Review\n",
        "\n",
        "The goal of this notebook is to help you review some of the basics of python.\n",
        "\n",
        "Specifically, you will review\n",
        "\n",
        "* python syntax\n",
        "* markdown\n",
        "* formatted printing\n",
        "* loops\n",
        "* conditionals\n",
        "* functions\n",
        "* basic plotting\n",
        "\n",
        "# References That You Used\n",
        "\n",
        "List any references that you used here.  You can just paste in urls for online resources.\n",
        "\n",
        "* my reference 1\n",
        "* my reference 2\n",
        "\n"
      ]
    },
    {
      "cell_type": "markdown",
      "source": [
        "\n",
        "# Fixer-upper\n",
        "\n",
        "Fix the code in the cells below...it's all broken!\n",
        "\n",
        "(1 point each)"
      ],
      "metadata": {
        "id": "ho0V0oXimSW9"
      }
    },
    {
      "cell_type": "code",
      "source": [
        "import matplotlib.pylab as plt\n",
        "import numpy as np"
      ],
      "metadata": {
        "id": "uxIypO1ks8nv"
      },
      "execution_count": null,
      "outputs": []
    },
    {
      "cell_type": "code",
      "metadata": {
        "id": "7xWQl5iV5ZlR",
        "colab": {
          "base_uri": "https://localhost:8080/"
        },
        "outputId": "bde89e87-0ceb-4348-910c-40afffd87278"
      },
      "source": [
        "myage = 19 # Or fill in your age here\n",
        "\n",
        "print(\"My age is\", myage)\n"
      ],
      "execution_count": null,
      "outputs": [
        {
          "output_type": "stream",
          "name": "stdout",
          "text": [
            "My age is 19\n"
          ]
        }
      ]
    },
    {
      "cell_type": "code",
      "metadata": {
        "id": "_uqX-8oa50fF",
        "colab": {
          "base_uri": "https://localhost:8080/"
        },
        "outputId": "0aa5112c-b7a6-47de-9cd3-a9ef3afa2c8b"
      },
      "source": [
        "song = \"Someone Great\"\n",
        "artist = \"LCD Soundsystem\"\n",
        "\n",
        "print(f\" '{song}' is sung by {artist}\")"
      ],
      "execution_count": null,
      "outputs": [
        {
          "output_type": "stream",
          "name": "stdout",
          "text": [
            " 'Someone Great' is sung by LCD Soundsystem\n"
          ]
        }
      ]
    },
    {
      "cell_type": "code",
      "metadata": {
        "id": "YdQv3Fxw5_wh",
        "colab": {
          "base_uri": "https://localhost:8080/"
        },
        "outputId": "e2f5d3fe-b0e9-4172-e5a7-88a53c003006"
      },
      "source": [
        "from math import factorial\n",
        "\n",
        "factorial(4)"
      ],
      "execution_count": null,
      "outputs": [
        {
          "output_type": "execute_result",
          "data": {
            "text/plain": [
              "24"
            ]
          },
          "metadata": {},
          "execution_count": 8
        }
      ]
    },
    {
      "cell_type": "code",
      "metadata": {
        "id": "XMy2PU_u6Dpm",
        "colab": {
          "base_uri": "https://localhost:8080/"
        },
        "outputId": "d3f55bfb-ddce-4918-cc0a-f0be4a288751"
      },
      "source": [
        "angle = np.pi/4.0\n",
        "\n",
        "from math import pi,cos\n",
        "\n",
        "print(cos(angle))"
      ],
      "execution_count": null,
      "outputs": [
        {
          "output_type": "stream",
          "name": "stdout",
          "text": [
            "0.7071067811865476\n"
          ]
        }
      ]
    },
    {
      "cell_type": "markdown",
      "metadata": {
        "id": "NJdvPivG6VhP"
      },
      "source": [
        "After you fix the above cell, try restarting the kernel (**Runtime --> Restart runtime...**) and re-running the cell to make sure it works.\n"
      ]
    },
    {
      "cell_type": "markdown",
      "metadata": {
        "id": "M_oS7zjam4_g"
      },
      "source": [
        "# Markdown\n",
        "(1 point each)\n",
        "\n",
        "1. Write out some text in bold, italics, and both.\n",
        "**bold**\n",
        "**Hi**\n",
        "\n",
        "*italics*\n",
        "*Goodbye*\n",
        "\n",
        "***both***\n",
        "***Test***\n",
        "\n",
        "1. Make a bullet list.\n",
        "\n",
        "- moe\n",
        "- is\n",
        "- cool\n",
        "- and\n",
        "- smart.\n",
        "\n",
        "1. Write out some (3 or more) kinematic equations from Gen Phys I using LaTeX. You can reference a more complete list of\n",
        "symbols [here](https://artofproblemsolving.com/wiki/index.php/LaTeX:Symbols).\n",
        "\n",
        "$\\vec{F}= m\\vec{a}$\n",
        "\n",
        "$V_f^2=V_i^2+2ad$\n",
        "\n",
        "$x=x_0+v_{i,x}t+\\frac{1}{2}a_xt^2$\n",
        "\n",
        "$v=v_0+at$\n",
        "\n",
        "$y=y_0+v_{i,y}t+\\frac{1}{2}gt^2$"
      ]
    },
    {
      "cell_type": "markdown",
      "source": [
        "# Formatted Printing\n",
        "(1 point each)\n",
        "\n",
        "* We can use formatted print statements to print out variables.\n",
        "* We will often want to print the results of a calculation, but we don't want to print out a million digits.  We can use formatted print statements to limit the precision of the numbers that we print.\n",
        "* See this link for more details https://docs.python.org/3/tutorial/inputoutput.html"
      ],
      "metadata": {
        "id": "z46N8yx4mJp1"
      }
    },
    {
      "cell_type": "code",
      "source": [
        "myratio = 10/3\n",
        "print(f\"{myratio:.2f}\")"
      ],
      "metadata": {
        "id": "jGUaqE_ZmIJh",
        "colab": {
          "base_uri": "https://localhost:8080/"
        },
        "outputId": "88d94ad9-4fc8-400e-d250-48de0bca9abb"
      },
      "execution_count": null,
      "outputs": [
        {
          "output_type": "stream",
          "name": "stdout",
          "text": [
            "3.33\n"
          ]
        }
      ]
    },
    {
      "cell_type": "code",
      "source": [
        "# formatted print statement, we can reference the variable in brackets {}\n",
        "print(f\"my ratio = {myratio}\")"
      ],
      "metadata": {
        "id": "Q6SV8R-MnGwN",
        "colab": {
          "base_uri": "https://localhost:8080/"
        },
        "outputId": "e2f30b78-ae97-454d-edc1-a43a44bbef18"
      },
      "execution_count": null,
      "outputs": [
        {
          "output_type": "stream",
          "name": "stdout",
          "text": [
            "my ratio = 3.3333333333333335\n"
          ]
        }
      ]
    },
    {
      "cell_type": "code",
      "source": [
        "# we can limit the number of decimal places that it prints\n",
        "# in the statement below, I ask python to print the first two digits after the decimal point\n",
        "print(f\"my ratio = {myratio:.2f}\")"
      ],
      "metadata": {
        "id": "CDcv5LfsnRS9",
        "colab": {
          "base_uri": "https://localhost:8080/"
        },
        "outputId": "30c9ef7a-f5e7-4c08-8cec-a9a43bb4889e"
      },
      "execution_count": null,
      "outputs": [
        {
          "output_type": "stream",
          "name": "stdout",
          "text": [
            "my ratio = 3.33\n"
          ]
        }
      ]
    },
    {
      "cell_type": "code",
      "source": [
        "# print pi to 5 decimal places\n",
        "print(f\"pi is approximately equal to: {pi:.5f}\")"
      ],
      "metadata": {
        "id": "my59mzWznlK_",
        "colab": {
          "base_uri": "https://localhost:8080/"
        },
        "outputId": "acbe1c1f-3a18-4287-b405-45040ebdde17"
      },
      "execution_count": null,
      "outputs": [
        {
          "output_type": "stream",
          "name": "stdout",
          "text": [
            "pi is approximately equal to: 3.14159\n"
          ]
        }
      ]
    },
    {
      "cell_type": "markdown",
      "metadata": {
        "id": "3giruAXg1Es9"
      },
      "source": [
        "# Lists\n",
        "\n",
        "These exercises will allow you to test your understanding of Python lists.\n",
        "\n",
        "(1 point each)"
      ]
    },
    {
      "cell_type": "code",
      "metadata": {
        "id": "YZmDOp-a0_7z"
      },
      "source": [
        "fib = [1,2,3,5,8,13,21,34,55,84]"
      ],
      "execution_count": null,
      "outputs": []
    },
    {
      "cell_type": "code",
      "metadata": {
        "id": "BQFNz7q91Osr",
        "colab": {
          "base_uri": "https://localhost:8080/"
        },
        "outputId": "a571e6a8-3fbf-45b2-c9cf-a587243f7354"
      },
      "source": [
        "# Print the second entry in the list fib.\n",
        "print({fib[1]})"
      ],
      "execution_count": null,
      "outputs": [
        {
          "output_type": "stream",
          "name": "stdout",
          "text": [
            "{2}\n"
          ]
        }
      ]
    },
    {
      "cell_type": "code",
      "metadata": {
        "id": "Uy59uKl51RKM",
        "colab": {
          "base_uri": "https://localhost:8080/"
        },
        "outputId": "1ceb50ee-8d49-4e87-9b48-f0345958672b"
      },
      "source": [
        "# Print the 8th entry in the list fib.\n",
        "print({fib[7]})"
      ],
      "execution_count": null,
      "outputs": [
        {
          "output_type": "stream",
          "name": "stdout",
          "text": [
            "{34}\n"
          ]
        }
      ]
    },
    {
      "cell_type": "code",
      "metadata": {
        "id": "7SoOIZgu1SIs",
        "colab": {
          "base_uri": "https://localhost:8080/"
        },
        "outputId": "4ff81c67-e03e-4db7-eae5-c376acb00352"
      },
      "source": [
        "# How many entries are there in the fib list?\n",
        "print(len(fib))"
      ],
      "execution_count": null,
      "outputs": [
        {
          "output_type": "stream",
          "name": "stdout",
          "text": [
            "10\n"
          ]
        }
      ]
    },
    {
      "cell_type": "code",
      "metadata": {
        "id": "Hj-9YGFb1THE",
        "colab": {
          "base_uri": "https://localhost:8080/"
        },
        "outputId": "771fcea2-c451-4ef5-9dc8-7a01a295a2c8"
      },
      "source": [
        "# How would you reference (using the proper index) the number 13 in the fib list?\n",
        "print(fib[5])"
      ],
      "execution_count": null,
      "outputs": [
        {
          "output_type": "stream",
          "name": "stdout",
          "text": [
            "13\n"
          ]
        }
      ]
    },
    {
      "cell_type": "code",
      "metadata": {
        "id": "JcVRV3K51UZM"
      },
      "source": [
        "words = ['Once upon a ','midnight dreary ','while I pondered ','weak and weary']"
      ],
      "execution_count": null,
      "outputs": []
    },
    {
      "cell_type": "code",
      "metadata": {
        "id": "JdPoBM6o1V31",
        "colab": {
          "base_uri": "https://localhost:8080/"
        },
        "outputId": "800c73f3-0907-4eed-e574-ca1f884edd98"
      },
      "source": [
        "# How many entries are there in the words list?\n",
        "print(len(words))"
      ],
      "execution_count": null,
      "outputs": [
        {
          "output_type": "stream",
          "name": "stdout",
          "text": [
            "4\n"
          ]
        }
      ]
    },
    {
      "cell_type": "code",
      "metadata": {
        "id": "Enh1au3T1W5t",
        "colab": {
          "base_uri": "https://localhost:8080/"
        },
        "outputId": "9e9a24cc-f104-4c97-d596-8269db072abd"
      },
      "source": [
        "# Print the 3rd entry in the words list?\n",
        "print(words[2])"
      ],
      "execution_count": null,
      "outputs": [
        {
          "output_type": "stream",
          "name": "stdout",
          "text": [
            "while I pondered \n"
          ]
        }
      ]
    },
    {
      "cell_type": "code",
      "metadata": {
        "id": "M52P5_901Xme",
        "colab": {
          "base_uri": "https://localhost:8080/"
        },
        "outputId": "4894ee7d-900f-407a-edd2-0efdb74349b0"
      },
      "source": [
        "# How many characters are there in the 3rd entry in the words list?\n",
        "print(len(words[2]))"
      ],
      "execution_count": null,
      "outputs": [
        {
          "output_type": "stream",
          "name": "stdout",
          "text": [
            "17\n"
          ]
        }
      ]
    },
    {
      "cell_type": "code",
      "metadata": {
        "id": "1G_Au1KQ1YVV",
        "colab": {
          "base_uri": "https://localhost:8080/"
        },
        "outputId": "9fe89494-2e3c-4c3c-97ea-bdfdcf098706"
      },
      "source": [
        "# Make an empty list and use the append function to add to it the following numbers.\n",
        "# 16\n",
        "# 25\n",
        "# 121\n",
        "# 169\n",
        "# 225\n",
        "nums = []\n",
        "nums.append(16)\n",
        "nums.append(25)\n",
        "nums.append(121)\n",
        "nums.append(169)\n",
        "nums.append(225)\n",
        "\n",
        "print(nums)"
      ],
      "execution_count": null,
      "outputs": [
        {
          "output_type": "stream",
          "name": "stdout",
          "text": [
            "[16, 25, 121, 169, 225]\n"
          ]
        }
      ]
    },
    {
      "cell_type": "code",
      "metadata": {
        "id": "F7JHfM771Z_-"
      },
      "source": [
        "# Make a list of two lists. Add to the first ``sub\" list the following words\n",
        "# 'One'\n",
        "# 'Two'\n",
        "# 'Three'\n",
        "#  and add to the second list\n",
        "# 1\n",
        "# 2\n",
        "# 3\n",
        "one = [1]\n",
        "two = [2]\n",
        "three = [3]\n",
        "num = [one,two,three]"
      ],
      "execution_count": null,
      "outputs": []
    },
    {
      "cell_type": "code",
      "metadata": {
        "id": "zEZju2mq1bbe",
        "colab": {
          "base_uri": "https://localhost:8080/"
        },
        "outputId": "44e75723-e54d-4faf-b657-a32f4ae7a7d4"
      },
      "source": [
        "# Print out the entry with 'Two'\n",
        "print(num[1])"
      ],
      "execution_count": null,
      "outputs": [
        {
          "output_type": "stream",
          "name": "stdout",
          "text": [
            "[2]\n"
          ]
        }
      ]
    },
    {
      "cell_type": "code",
      "metadata": {
        "id": "e5Y2hZw01cjN",
        "colab": {
          "base_uri": "https://localhost:8080/"
        },
        "outputId": "4c58d32e-17f9-4aac-f7d9-861fd05dd00c"
      },
      "source": [
        "# Print out the entry with 3\n",
        "print(num[2])"
      ],
      "execution_count": null,
      "outputs": [
        {
          "output_type": "stream",
          "name": "stdout",
          "text": [
            "[3]\n"
          ]
        }
      ]
    },
    {
      "cell_type": "markdown",
      "metadata": {
        "id": "lkngXj8V1ffm"
      },
      "source": [
        "# Loops\n",
        "\n",
        "These exercises will allow you to test your understanding of loops in Python.\n",
        "\n",
        "(2 points each)"
      ]
    },
    {
      "cell_type": "code",
      "metadata": {
        "id": "GGiYk-9s1dUN",
        "colab": {
          "base_uri": "https://localhost:8080/"
        },
        "outputId": "14de5ea4-2574-4cce-9961-6b5e638f682e"
      },
      "source": [
        "# Use a while loop to print out the even numbers from 0-10 (inclusive)\n",
        "x = -2\n",
        "while x<10:\n",
        "  x = x+2\n",
        "  print(x)"
      ],
      "execution_count": null,
      "outputs": [
        {
          "output_type": "stream",
          "name": "stdout",
          "text": [
            "0\n",
            "2\n",
            "4\n",
            "6\n",
            "8\n",
            "10\n"
          ]
        }
      ]
    },
    {
      "cell_type": "code",
      "metadata": {
        "id": "kp_qKAgB1jK3",
        "colab": {
          "base_uri": "https://localhost:8080/"
        },
        "outputId": "6b43c2ce-6c8a-4d6f-fb82-3fdf702e2720"
      },
      "source": [
        "# Use a for loop with the range function to print out the even numbers from 0-10 (inclusive)\n",
        "y = [0,1,2,3,4,5,6,7,8,9,10]\n",
        "for y in y:\n",
        "  if y % 2 == 0:\n",
        "    print(y)\n"
      ],
      "execution_count": null,
      "outputs": [
        {
          "output_type": "stream",
          "name": "stdout",
          "text": [
            "0\n",
            "2\n",
            "4\n",
            "6\n",
            "8\n",
            "10\n"
          ]
        }
      ]
    },
    {
      "cell_type": "code",
      "metadata": {
        "id": "x5JOczHi1j-t",
        "colab": {
          "base_uri": "https://localhost:8080/"
        },
        "outputId": "4a0909e9-b784-4167-fee4-785a697ffe11"
      },
      "source": [
        "# Use a for loop to add up the multiples of 3 that are less than 100.\n",
        "z = 0\n",
        "for i in range(0,101):\n",
        "  if i < 100:\n",
        "    if i % 3 == 0:\n",
        "      z = z + i\n",
        "      print(z)\n",
        "\n",
        "\n",
        "\n"
      ],
      "execution_count": null,
      "outputs": [
        {
          "output_type": "stream",
          "name": "stdout",
          "text": [
            "0\n",
            "3\n",
            "9\n",
            "18\n",
            "30\n",
            "45\n",
            "63\n",
            "84\n",
            "108\n",
            "135\n",
            "165\n",
            "198\n",
            "234\n",
            "273\n",
            "315\n",
            "360\n",
            "408\n",
            "459\n",
            "513\n",
            "570\n",
            "630\n",
            "693\n",
            "759\n",
            "828\n",
            "900\n",
            "975\n",
            "1053\n",
            "1134\n",
            "1218\n",
            "1305\n",
            "1395\n",
            "1488\n",
            "1584\n",
            "1683\n"
          ]
        }
      ]
    },
    {
      "cell_type": "code",
      "metadata": {
        "id": "Gj025a-D1k3u",
        "colab": {
          "base_uri": "https://localhost:8080/"
        },
        "outputId": "a9dd5a71-b553-4958-b8ae-95e1b829fc7a"
      },
      "source": [
        "# Use a while loop to add up the multiples of 3 (starting at 0), while the total is less than 100.\n",
        "n = 0\n",
        "for i in range(0,101):\n",
        "  if i < 100:\n",
        "    if i % 3 == 0:\n",
        "      n = n + i\n",
        "      if n < 100:\n",
        "        print(n)\n"
      ],
      "execution_count": null,
      "outputs": [
        {
          "output_type": "stream",
          "name": "stdout",
          "text": [
            "0\n",
            "3\n",
            "9\n",
            "18\n",
            "30\n",
            "45\n",
            "63\n",
            "84\n"
          ]
        }
      ]
    },
    {
      "cell_type": "code",
      "metadata": {
        "id": "TO_DbqrOQwiW",
        "colab": {
          "base_uri": "https://localhost:8080/"
        },
        "outputId": "62cf5822-5647-4024-8eec-0401dc42889f"
      },
      "source": [
        "fib = [1,2,3,5,8,13,21,34,55,84]\n",
        "\n",
        "# Loop over this list and print out the entries 2 ways:\n",
        "# * Just iterating over each entry in the list\n",
        "# * Using \"range\" and referencing the entries by index\n",
        "print(fib)\n",
        "for i in range(10):\n",
        "  print(fib[i])"
      ],
      "execution_count": null,
      "outputs": [
        {
          "output_type": "stream",
          "name": "stdout",
          "text": [
            "[1, 2, 3, 5, 8, 13, 21, 34, 55, 84]\n",
            "1\n",
            "2\n",
            "3\n",
            "5\n",
            "8\n",
            "13\n",
            "21\n",
            "34\n",
            "55\n",
            "84\n"
          ]
        }
      ]
    },
    {
      "cell_type": "code",
      "metadata": {
        "id": "TZEkZjBL1l3t",
        "colab": {
          "base_uri": "https://localhost:8080/"
        },
        "outputId": "b1f49922-cd77-46c0-8010-39ff17f2f4b8"
      },
      "source": [
        "# Put all the entries in the following list into a single string and print that string, using a for loop.\n",
        "words = ['Once upon a ','midnight dreary ','while I pondered ','weak and weary']\n",
        "words1 = words[0]+words[1]+words[2]+words[3]\n",
        "print(words1)"
      ],
      "execution_count": null,
      "outputs": [
        {
          "output_type": "stream",
          "name": "stdout",
          "text": [
            "Once upon a midnight dreary while I pondered weak and weary\n"
          ]
        }
      ]
    },
    {
      "cell_type": "code",
      "metadata": {
        "id": "EP8hHaBz1nN2",
        "colab": {
          "base_uri": "https://localhost:8080/"
        },
        "outputId": "75ad1f78-6573-4c67-dd60-e623d780abb4"
      },
      "source": [
        "# Fill a list with the first 1000 multiples of 13 (starting with 13). Verify your work by checking the length of the\n",
        "# list.\n",
        "n = []\n",
        "for i in range(0,1001):\n",
        "  if i < 1000:\n",
        "    n.append(i*13)\n",
        "print(len(n))"
      ],
      "execution_count": null,
      "outputs": [
        {
          "output_type": "stream",
          "name": "stdout",
          "text": [
            "1000\n"
          ]
        }
      ]
    },
    {
      "cell_type": "markdown",
      "metadata": {
        "id": "i-AnL1XWnHpt"
      },
      "source": [
        "# Conditionals\n",
        "\n",
        "These exercises will allow you to test your understanding of conditional statments in Python.\n",
        "\n",
        "(2 points each)"
      ]
    },
    {
      "cell_type": "code",
      "metadata": {
        "id": "4D-yJ8nnyKeg",
        "colab": {
          "base_uri": "https://localhost:8080/"
        },
        "outputId": "5844f4ed-1072-4a80-ffcc-55bd14ad3c00"
      },
      "source": [
        "# Test to see what is larger (without printing the answers to the\n",
        "# multiplication to the screen)\n",
        "#\n",
        "# 25*32\n",
        "# or\n",
        "# 17*49\n",
        "#\n",
        "# Print which product is larger to the screen.\n",
        "x = 25*32\n",
        "y = 17*49\n",
        "if x > y:\n",
        "  print(x)\n",
        "else:\n",
        "  print(y)"
      ],
      "execution_count": null,
      "outputs": [
        {
          "output_type": "stream",
          "name": "stdout",
          "text": [
            "833\n"
          ]
        }
      ]
    },
    {
      "cell_type": "code",
      "metadata": {
        "id": "-m9-3H_eyZeX",
        "colab": {
          "base_uri": "https://localhost:8080/"
        },
        "outputId": "e2b87a5d-f884-4202-e54e-8f0dd190932b"
      },
      "source": [
        "# Test whether or not 18/2 is the same as 36/4\n",
        "x = 18/2\n",
        "y = 36/4\n",
        "if x == y:\n",
        "  print(\"same\")\n",
        "else:\n",
        "  print(\"not same\")"
      ],
      "execution_count": null,
      "outputs": [
        {
          "output_type": "stream",
          "name": "stdout",
          "text": [
            "same\n"
          ]
        }
      ]
    },
    {
      "cell_type": "code",
      "metadata": {
        "id": "wfyraanJyalj",
        "colab": {
          "base_uri": "https://localhost:8080/"
        },
        "outputId": "8cbeb5be-edc5-4620-a0af-f68d2952a342"
      },
      "source": [
        "# Test whether or not 18/2 is the same as 36.0/4.0\n",
        "x = 18/2\n",
        "y = 36.0/4.0\n",
        "if x == y:\n",
        "  print(\"same\")\n",
        "else:\n",
        "  print(\"not same\")"
      ],
      "execution_count": null,
      "outputs": [
        {
          "output_type": "stream",
          "name": "stdout",
          "text": [
            "same\n"
          ]
        }
      ]
    },
    {
      "cell_type": "code",
      "metadata": {
        "id": "aUJ3IR5qybeu",
        "colab": {
          "base_uri": "https://localhost:8080/"
        },
        "outputId": "f071425b-a50d-4c23-9e19-ab5591708628"
      },
      "source": [
        "# Test whether or not 1/2 is the same as 1.0/2.0\n",
        "x = 1/2\n",
        "y = 1.0/2.0\n",
        "if x == y:\n",
        "  print(\"same\")\n",
        "else:\n",
        "  print(\"not same\")"
      ],
      "execution_count": null,
      "outputs": [
        {
          "output_type": "stream",
          "name": "stdout",
          "text": [
            "same\n"
          ]
        }
      ]
    },
    {
      "cell_type": "code",
      "metadata": {
        "id": "S9aKmmQ8yc4Q",
        "colab": {
          "base_uri": "https://localhost:8080/"
        },
        "outputId": "e1aea057-a58c-44fb-9ace-3ee114b261de"
      },
      "source": [
        "# Are these two strings equal? If not write some code to figure out what is different.\n",
        "x = \"00000000000000000000000000000000000000000000000000\"\n",
        "y = \"00000000000000000000000000000000000000000000O00000\"\n",
        "for i in range(min(len(x),len(y))):\n",
        "    if x[i] != y[i]:\n",
        "      print(x[i],\"and\",y[i])\n",
        "\n",
        "\n",
        "\n",
        "\n"
      ],
      "execution_count": null,
      "outputs": [
        {
          "output_type": "stream",
          "name": "stdout",
          "text": [
            "0 and O\n"
          ]
        }
      ]
    },
    {
      "cell_type": "markdown",
      "metadata": {
        "id": "zXiidCtvnwCq"
      },
      "source": [
        "# Functions\n",
        "\n",
        "Write a function called ```feet2miles``` that takes in 1 argument, ```feet``` and returns the equivalent number of miles. Set the default value of feet to be 100.\n",
        "\n",
        "For reference, there are 5280 feet in a mile.\n",
        "\n",
        "(5 points)"
      ]
    },
    {
      "cell_type": "code",
      "metadata": {
        "id": "Db55VxfCnw3B",
        "colab": {
          "base_uri": "https://localhost:8080/"
        },
        "outputId": "ea1e474e-b6a6-489c-a46f-0799681b0846"
      },
      "source": [
        "# Your code here\n",
        "def feet2miles(x):\n",
        "  x = x/5280\n",
        "  return x\n",
        "\n",
        "\n",
        "# This part is for testing the above.\n",
        "\n",
        "m = feet2miles(5280)\n",
        "print(m) # Should be 1\n",
        "\n",
        "m = feet2miles(1)\n",
        "print(m)\n",
        "\n",
        "m = feet2miles(1000)\n",
        "print(m)"
      ],
      "execution_count": null,
      "outputs": [
        {
          "output_type": "stream",
          "name": "stdout",
          "text": [
            "1.0\n",
            "0.0001893939393939394\n",
            "0.1893939393939394\n"
          ]
        }
      ]
    },
    {
      "cell_type": "code",
      "source": [
        "# Make an array of values in feet, ranging from 1000 to 20000, in steps of 1000\n",
        "# using the np.arange function\n",
        "myfeet = np.arange(1000,21000,1000)\n",
        "\n",
        "# Use your feet2miles function to create a second array,\n",
        "# which is the equivalent of myfeet but is instead mymiles\n",
        "# this should be only one line of code!\n",
        "\n",
        "mymiles = feet2miles(myfeet)\n",
        "print(mymiles)"
      ],
      "metadata": {
        "id": "eXKYot3Tprt4",
        "colab": {
          "base_uri": "https://localhost:8080/"
        },
        "outputId": "6f39c964-17c9-425a-88c9-e2fb6b4f3332"
      },
      "execution_count": null,
      "outputs": [
        {
          "output_type": "stream",
          "name": "stdout",
          "text": [
            "[0.18939394 0.37878788 0.56818182 0.75757576 0.9469697  1.13636364\n",
            " 1.32575758 1.51515152 1.70454545 1.89393939 2.08333333 2.27272727\n",
            " 2.46212121 2.65151515 2.84090909 3.03030303 3.21969697 3.40909091\n",
            " 3.59848485 3.78787879]\n"
          ]
        }
      ]
    },
    {
      "cell_type": "markdown",
      "metadata": {
        "id": "ZfpbRMrF0gc1"
      },
      "source": [
        "# Plotting"
      ]
    },
    {
      "cell_type": "markdown",
      "metadata": {
        "id": "LWKVeMFsHR1R"
      },
      "source": [
        "## Kinematics\n",
        "\n",
        "(5 points)\n",
        "\n",
        "Suppose you are standing on a cliff 50 meters high. You throw a ball almost straight up with a velocity of 15 m/s. It misses the edge of the cliff on the way down so it will continue all the way to the ground below.\n",
        "\n",
        "Neglecting air resistance, solve for the height, velocity, and acceleration of the ball as a function of time.  Write your solution on a whiteboard and check your results with your instructor.\n",
        "\n",
        "Once you have your solution approved, write the functions that you determined here.  Be sure to use the latex/markup features to display the equations in a nice format.   (2 points)\n",
        "\n",
        "$y = y_0+vt+\\frac{1}{2}gt^2$\n",
        "\n",
        "$v = v_0+gt$\n",
        "\n",
        "$g = -9.81m/s^2$\n",
        "\n",
        "Then make some plots of the (6 points)\n",
        "\n",
        "* Acceleration vs. time\n",
        "* Velocity vs. time\n",
        "* Position vs. time\n",
        "\n",
        "Make these plots for the time period when it is thrown in the air until it lands on the ground below."
      ]
    },
    {
      "cell_type": "code",
      "metadata": {
        "id": "5lOCmSa8oLL3",
        "colab": {
          "base_uri": "https://localhost:8080/",
          "height": 447
        },
        "outputId": "fd3f012b-6368-482e-b83e-5f9bad38cfda"
      },
      "source": [
        "# Your code\n",
        "t = np.linspace(0,10)\n",
        "g = -9.81\n",
        "v = 15-9.81*t\n",
        "y = 50+v*t+1/2*g*t**2\n",
        "plt.figure()\n",
        "plt.subplot(3,1,1)\n",
        "plt.axhline(g)\n",
        "\n",
        "plt.subplot(3,1,2)\n",
        "plt.plot(t,v)\n",
        "\n",
        "plt.subplot(3,1,3)\n",
        "plt.plot(t,y)"
      ],
      "execution_count": null,
      "outputs": [
        {
          "output_type": "execute_result",
          "data": {
            "text/plain": [
              "[<matplotlib.lines.Line2D at 0x7f452f922810>]"
            ]
          },
          "metadata": {},
          "execution_count": 200
        },
        {
          "output_type": "display_data",
          "data": {
            "text/plain": [
              "<Figure size 640x480 with 3 Axes>"
            ],
            "image/png": "[encoded data removed]"
          },
          "metadata": {}
        }
      ]
    },
    {
      "cell_type": "markdown",
      "source": [
        "## Make a plot of $sin(\\theta)$ and $cos(\\theta)$\n",
        "\n",
        "(5 points)\n",
        "\n",
        "* make a plot of $sin(\\theta)$ and $cos(\\theta)$ as a function of theta, $\\theta$.\n",
        "* theta should be in radians, with theta ranging from $0 \\le \\theta \\le 2\\pi$. (Hint: use np.linspace to create the theta array, with 100 elements.)\n",
        "* make a plot with 1 column and two rows, and plot sin in the top row and cosine in the bottom row.  You can use plt.subplot to make multi-panel plots.\n",
        "\n",
        "```\n",
        "plt.subplot(2,1,1)\n",
        "```\n",
        "* NOTE: for this exercise, you should use the trig functions from numpy, e.g. np.sin and np.cos.\n",
        "\n",
        "(4 points)"
      ],
      "metadata": {
        "id": "j2mlCHh4oMhx"
      }
    },
    {
      "cell_type": "code",
      "source": [
        "# Your code here\n",
        "\n",
        "theta= np.linspace(0,2*pi,100)\n",
        "\n",
        "plt.figure()\n",
        "\n",
        "plt.subplot(2,1,1)\n",
        "plt.plot(theta, np.sin(theta))\n",
        "plt.subplot(2,1,2)\n",
        "plt.plot(theta, np.cos(theta))\n"
      ],
      "metadata": {
        "id": "FA-1b2RGo9Dz",
        "colab": {
          "base_uri": "https://localhost:8080/",
          "height": 447
        },
        "outputId": "1e050ba6-ee4d-4cdd-924a-797f4765a2d6"
      },
      "execution_count": null,
      "outputs": [
        {
          "output_type": "execute_result",
          "data": {
            "text/plain": [
              "[<matplotlib.lines.Line2D at 0x7f452fd9c710>]"
            ]
          },
          "metadata": {},
          "execution_count": 209
        },
        {
          "output_type": "display_data",
          "data": {
            "text/plain": [
              "<Figure size 640x480 with 2 Axes>"
            ],
            "image/png": "[encoded data removed]"
          },
          "metadata": {}
        }
      ]
    },
    {
      "cell_type": "code",
      "source": [],
      "metadata": {
        "id": "2q9XThouzj6U"
      },
      "execution_count": null,
      "outputs": []
    }
  ]
}