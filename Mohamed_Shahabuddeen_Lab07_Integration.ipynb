{
  "nbformat": 4,
  "nbformat_minor": 0,
  "metadata": {
    "colab": {
      "provenance": [],
      "include_colab_link": true
    },
    "kernelspec": {
      "name": "python3",
      "display_name": "Python 3"
    },
    "language_info": {
      "name": "python"
    }
  },
  "cells": [
    {
      "cell_type": "markdown",
      "metadata": {
        "id": "view-in-github",
        "colab_type": "text"
      },
      "source": [
        "<a href=\"https://colab.research.google.com/github/MohamedS-Siena/computational_physics/blob/main/Mohamed_Shahabuddeen_Lab07_Integration.ipynb\" target=\"_parent\"><img src=\"https://colab.research.google.com/assets/colab-badge.svg\" alt=\"Open In Colab\"/></a>"
      ]
    },
    {
      "cell_type": "markdown",
      "source": [
        "# Lab 07: Numerical Integration\n",
        "\n",
        "* There are many techniques for implementing numerical integration.  In this lab, you will write code to implement the trapezoid method of integration.\n",
        "\n",
        "* You will use this function to calculate the integral in several different physical situations.\n",
        "\n",
        "* You will compare your function with python's built-it numerical integrators."
      ],
      "metadata": {
        "id": "xse95zEAUgb9"
      }
    },
    {
      "cell_type": "code",
      "execution_count": null,
      "metadata": {
        "id": "to9v7ECGPTHI"
      },
      "outputs": [],
      "source": [
        "# import your modules here\n",
        "import numpy as np\n",
        "import matplotlib.pyplot as plt\n",
        "import math"
      ]
    },
    {
      "cell_type": "markdown",
      "source": [
        "# Part 1: Write a Function to Implement the Trapezoid Integration Method\n",
        "\n",
        "(5 points)\n",
        "\n",
        "Write a function called **trap** that does the following.\n",
        "\n",
        "Input:\n",
        "* array of y values\n",
        "* array of x values, spanning from from xmin to xmax\n",
        "\n",
        "\n",
        "Function should integrate using the trapezoid method.\n",
        "\n",
        "Return:\n",
        "* the integral of $f(x)$ between xmin and xmax"
      ],
      "metadata": {
        "id": "aiIJCQWpPW5i"
      }
    },
    {
      "cell_type": "code",
      "source": [
        "# write your function here\n",
        "def trap(x,y):\n",
        "  z=0\n",
        "  for i in range(1,len(x)):\n",
        "    z+=(y[i-1]+y[i])/2*(x[i]-x[i-1])\n",
        "  return z"
      ],
      "metadata": {
        "id": "dEtQF_6BP0BI"
      },
      "execution_count": null,
      "outputs": []
    },
    {
      "cell_type": "markdown",
      "source": [
        "# Part 2:  Calculate the Area Under the Half Circle\n",
        "\n",
        "(10 points)\n",
        "\n",
        "In the pre-lab assignment, we estimated the area of a half circle using the trapezoid method.\n",
        "\n",
        "The general equation for a circle is:\n",
        "\n",
        "$$ r^2 = x^2 + y^2 $$\n",
        "\n",
        "For a circle of $r=2$, we can solve for the y coordinate:\n",
        "\n",
        "$$ f(x) = y = \\sqrt{2^2 - x^2} $$.\n",
        "\n",
        "\n",
        "### Write a function to return the y values of your circle\n",
        "\n",
        "* In the first cell below, write a function called **mycircle** that returns the y value of the circle.\n",
        "\n",
        "* let the radius be an optional argument, and set the default value to $r=2$.\n",
        "\n",
        "\n",
        "\n",
        "\n"
      ],
      "metadata": {
        "id": "GVYQZD_hIsgj"
      }
    },
    {
      "cell_type": "code",
      "source": [
        "# write your function mycircle here\n",
        "def mycircle(x,r=2):\n",
        "  y = np.sqrt(r**2-x**2)\n",
        "  return y"
      ],
      "metadata": {
        "id": "aQcI3aFGZXOT"
      },
      "execution_count": null,
      "outputs": []
    },
    {
      "cell_type": "markdown",
      "source": [
        "### Calculate the area under the half circle using integration\n",
        "\n",
        "* In the next cell, set up an array of x values with $-2 \\le x \\le 2$, with 100 divisions between $-2$ and $2$.  \n",
        "* Calculate the corresponding y values using your **mycircle** function.\n",
        "\n",
        "* Then use your **trap** function to calculate the area under the circle.\n",
        "\n",
        "* Print the value of your area using a formatted print statement.  Print five decimal places."
      ],
      "metadata": {
        "id": "f1XsoJsAanUp"
      }
    },
    {
      "cell_type": "code",
      "source": [
        "x = np.linspace(-2,2,100)\n",
        "y = mycircle(x)\n",
        "\n",
        "a = trap(x,y)\n",
        "print(f\"Area of half of a circle of 2 radius: {a:.5f}\")"
      ],
      "metadata": {
        "id": "RG3AsBdIanBD",
        "colab": {
          "base_uri": "https://localhost:8080/"
        },
        "outputId": "ebbe04a3-4785-450e-959c-0bff6d71ce8e"
      },
      "execution_count": null,
      "outputs": [
        {
          "output_type": "stream",
          "name": "stdout",
          "text": [
            "Area of half of a circle of 2 radius: 6.27644\n"
          ]
        }
      ]
    },
    {
      "cell_type": "markdown",
      "source": [
        "### Determine the Accuracy of Your Integral\n",
        "\n",
        "* Compare your answer with the accepted value of the integral.\n",
        "\n",
        "* Calculate and print your percent error."
      ],
      "metadata": {
        "id": "hzEpu9KQauef"
      }
    },
    {
      "cell_type": "code",
      "source": [
        "a_theo = 2*np.pi\n",
        "print(f\"numpy function: {a_theo}\\nmy function: {a}\")\n",
        "\n",
        "error = (a-a_theo)/a_theo*100\n",
        "print(f\"percent error = {error}%\")"
      ],
      "metadata": {
        "id": "_kpNnTcda2rf",
        "colab": {
          "base_uri": "https://localhost:8080/"
        },
        "outputId": "ce168504-d7c9-4923-db01-f62f0b0d146b"
      },
      "execution_count": null,
      "outputs": [
        {
          "output_type": "stream",
          "name": "stdout",
          "text": [
            "numpy function: 6.283185307179586\n",
            "my function: 6.276436078403621\n",
            "percent error = -0.10741731217529554%\n"
          ]
        }
      ]
    },
    {
      "cell_type": "markdown",
      "source": [
        "### The impact of the spacing in the x array\n",
        "\n",
        "* Repeat your above calculations, but divide the region $-2 \\le x \\le 2$ into 1000 steps.\n",
        "\n",
        "* You can copy all of the necessary code into one cell to simplify your calculation.\n",
        "\n",
        "* **SUMMARY**: describe how the accuracy of your integral changes as the size of the steps in the x direction decreases?\n",
        "\n",
        "**YOUR ANSWER HERE**\n",
        "\n"
      ],
      "metadata": {
        "id": "fvsETTnNa6aE"
      }
    },
    {
      "cell_type": "code",
      "source": [
        "x = np.linspace(-2,2,1000)\n",
        "y = mycircle(x)\n",
        "\n",
        "a = trap(x,y)\n",
        "print(f\"Area of half of a circle of 2 radius: {a}\")\n",
        "\n",
        "a_theo = 2*np.pi\n",
        "print(f\"numpy function: {a_theo}\\nmy function: {a}\")\n",
        "\n",
        "error = (a-a_theo)/a_theo*100\n",
        "print(f\"percent error = {error}%\")"
      ],
      "metadata": {
        "id": "tqnnaKTRcGsj",
        "colab": {
          "base_uri": "https://localhost:8080/"
        },
        "outputId": "a43f3ee3-e163-4dd8-e8d6-719def10d2f3"
      },
      "execution_count": null,
      "outputs": [
        {
          "output_type": "stream",
          "name": "stdout",
          "text": [
            "Area of half of a circle of 2 radius: 6.28297463809257\n",
            "numpy function: 6.283185307179586\n",
            "my function: 6.28297463809257\n",
            "percent error = -0.003352902655526221%\n"
          ]
        }
      ]
    },
    {
      "cell_type": "markdown",
      "source": [
        "the accuracy improves with greater amount of steps."
      ],
      "metadata": {
        "id": "Esi72WQxmU8R"
      }
    },
    {
      "cell_type": "markdown",
      "source": [
        "# Part 3: Integral of the Gaussian Distribution\n",
        "\n",
        "(10 points)\n",
        "\n",
        "The gaussian function (aka normal distribution) is:\n",
        "$$  f(x) = \\frac{1}{\\sqrt{2 \\pi} \\sigma} e^{-\\frac{1}{2}\\left(\\frac{x-\\bar{x}}{\\sigma}\\right)^2} $$\n",
        "\n",
        "where:\n",
        "* $\\bar{x}$ is the average of a distribution\n",
        "* $\\sigma$ is the standard deviation of the distribution\n",
        "\n",
        "\n",
        "Write a function **mygauss** that does the following:\n",
        "\n",
        "* Input\n",
        "  * x\n",
        "  * mean\n",
        "  * sigma\n",
        "\n",
        "* calculate $f(x)$\n",
        "\n",
        "* Return\n",
        "  * $f(x)$\n",
        "\n",
        "\n"
      ],
      "metadata": {
        "id": "bbNL0Tm5QF9b"
      }
    },
    {
      "cell_type": "code",
      "source": [
        "def mygauss(x,mean,sigma):\n",
        "  fx=1/(np.sqrt(2*np.pi)*sigma)*np.exp(-0.5*((x-mean)/sigma)**2)\n",
        "  return fx"
      ],
      "metadata": {
        "id": "s8DTfGCQVjyG"
      },
      "execution_count": null,
      "outputs": []
    },
    {
      "cell_type": "markdown",
      "source": [
        "### Integrate your gaussian\n",
        "\n",
        "* write code to integrate the gaussian between:\n",
        "* $ -\\sigma \\le x \\le \\sigma $\n",
        "\n",
        "* Compare your results with the expected answer, and calculate your percent error.\n",
        "\n",
        "* If you are not sure what the expected answer is, [look here](https://en.wikipedia.org/wiki/Normal_distribution)"
      ],
      "metadata": {
        "id": "215OJtBgczwW"
      }
    },
    {
      "cell_type": "code",
      "source": [
        "x = np.linspace(-1,1,1000)\n",
        "y = mygauss(x,0,1)\n",
        "a = trap(x,y)\n",
        "a_theo = 0.682\n",
        "error = (a-a_theo)/a_theo*100\n",
        "print(f\"percent error = {error}%\")"
      ],
      "metadata": {
        "id": "OgZQ1qgLTglS",
        "colab": {
          "base_uri": "https://localhost:8080/"
        },
        "outputId": "75da9e66-a73f-4b05-fc22-5b62ab6b9250"
      },
      "execution_count": null,
      "outputs": [
        {
          "output_type": "stream",
          "name": "stdout",
          "text": [
            "percent error = 0.10107485339246954%\n"
          ]
        }
      ]
    },
    {
      "cell_type": "markdown",
      "source": [
        "Calculate the integral for:\n",
        "* $ -2\\sigma \\le x \\le 2\\sigma $\n",
        "\n",
        "and compare with the accepted answer."
      ],
      "metadata": {
        "id": "yvYU9KDodFli"
      }
    },
    {
      "cell_type": "code",
      "source": [
        "x = np.linspace(-2,2,100)\n",
        "y = mygauss(x,0,1)\n",
        "a = trap(x,y)\n",
        "a_theo = 0.272+0.682\n",
        "error = (a-a_theo)/a_theo*100\n",
        "print(f\"percent error = {error}%\")"
      ],
      "metadata": {
        "id": "yFWRKdaudN79",
        "colab": {
          "base_uri": "https://localhost:8080/"
        },
        "outputId": "72431438-da2e-405c-ae4f-5939bfe5709b"
      },
      "execution_count": null,
      "outputs": [
        {
          "output_type": "stream",
          "name": "stdout",
          "text": [
            "percent error = 0.049303675295133534%\n"
          ]
        }
      ]
    },
    {
      "cell_type": "markdown",
      "source": [
        "Calculate the integral for:\n",
        "* $ -3\\sigma \\le x \\le 3\\sigma $\n",
        "\n",
        "and compare with the accepted answer."
      ],
      "metadata": {
        "id": "ZLAB82w2dM4d"
      }
    },
    {
      "cell_type": "code",
      "source": [
        "x = np.linspace(-3,3,100)\n",
        "y = mygauss(x,0,1)\n",
        "a = trap(x,y)\n",
        "a_theo = 0.042+0.272+0.682\n",
        "error = (a-a_theo)/a_theo*100\n",
        "print(f\"percent error = {error}%\")"
      ],
      "metadata": {
        "id": "YA0YYC7PdOeG",
        "colab": {
          "base_uri": "https://localhost:8080/"
        },
        "outputId": "eea9e6cb-1398-4325-cae0-3f583eac8698"
      },
      "execution_count": null,
      "outputs": [
        {
          "output_type": "stream",
          "name": "stdout",
          "text": [
            "percent error = 0.12972566535386193%\n"
          ]
        }
      ]
    },
    {
      "cell_type": "markdown",
      "source": [
        "# Part 4: Using Python Built-In Functions\n",
        "(5 points)\n",
        "\n",
        "* Let's revisit parts 1 and 4 and use python's built-in functions to complete the integration.\n",
        "\n",
        "* You can use the ```scipy.integrate.trapezoid``` function to perform your integration."
      ],
      "metadata": {
        "id": "LbsBm4YYIdA9"
      }
    },
    {
      "cell_type": "code",
      "source": [
        "# import scipy.integrate.trapezoid\n",
        "\n",
        "# set up x and y arrays for the half circle\n",
        "x = np.linspace(-2,2,100)\n",
        "y = mycircle(x)\n",
        "# call scipy.integrate.trapezoid to perform the integration\n",
        "a=trap(x,y)\n",
        "a_t=np.trapezoid(y,x)\n",
        "# print your result and the expected answer in a formatted print statement\n",
        "print(f\"res: {a}, exp: {a_t}\")"
      ],
      "metadata": {
        "id": "_IVhEmEpIo_1",
        "colab": {
          "base_uri": "https://localhost:8080/"
        },
        "outputId": "7fbb1dfa-a5e8-41c3-e2fa-291c89501ac4"
      },
      "execution_count": null,
      "outputs": [
        {
          "output_type": "stream",
          "name": "stdout",
          "text": [
            "res: 6.276436078403621, exp: 6.276436078403619\n"
          ]
        }
      ]
    },
    {
      "cell_type": "code",
      "source": [
        "# import scipy.integrate.trapezoid\n",
        "\n",
        "# set up x and y arrays for the gaussian\n",
        "x = np.linspace(-1,1,100)\n",
        "y = mygauss(x,0,1)\n",
        "# call scipy.integrate.trapezoid to perform the integration between $-1\\sigma \\le x \\le 1\\sigma$.\n",
        "a=trap(x,y)\n",
        "a_t=np.trapezoid(y,x)\n",
        "# print your result and the expected answer in a formatted print statement\n",
        "print(f\"res: {a}, exp: {a_t}\")"
      ],
      "metadata": {
        "id": "utR9UEHShLNq",
        "colab": {
          "base_uri": "https://localhost:8080/"
        },
        "outputId": "19722a1e-0f7e-4ea3-d46c-c27d439bc7e6"
      },
      "execution_count": null,
      "outputs": [
        {
          "output_type": "stream",
          "name": "stdout",
          "text": [
            "res: 0.6826730329991482, exp: 0.6826730329991479\n"
          ]
        }
      ]
    },
    {
      "cell_type": "markdown",
      "source": [
        "# Part 5: Calculating Area Using Monte Carlo\n",
        "\n",
        "(10 points)\n",
        "\n",
        "* On paper or the whiteboard, develop pseudo code for a function that will calculate the area of the half circle using the Monte Carlo method.\n",
        "* Check this with your instructor, and discuss how you could generalize this for any function.\n",
        "* Write your function **mcintegrate** in the cell below.\n",
        "* Your function should have an optional input argument, **visualize**, with a default value of ```False```.  If ```visualize=True```, your function should create a plot that shows:\n",
        "  * the function being integrated with a black solid line;\n",
        "  * the points that fall below the function as blue circles;\n",
        "  * the points that fall above the function as red circles;\n",
        "  * a title that reports the area.\n",
        "\n"
      ],
      "metadata": {
        "id": "YIsYaJeMICbr"
      }
    },
    {
      "cell_type": "code",
      "source": [
        "# your monte carlo function here\n",
        "def mcintegrate(x,y,visualize=False):\n",
        "  if visualize==True:\n",
        "    plt.figure()\n",
        "    fx = mycircle(x)\n",
        "\n",
        "    plt.xlabel(\"x\")\n",
        "    plt.ylabel(\"y\")\n",
        "\n",
        "    goodx=[]\n",
        "    goody=[]\n",
        "    badx=[]\n",
        "    bady=[]\n",
        "\n",
        "    for i in range(0,len(x)):\n",
        "      if y[i]<=fx[i]:\n",
        "        goodx.append(x[i])\n",
        "        goody.append(y[i])\n",
        "      else:\n",
        "        badx.append(x[i])\n",
        "        bady.append(y[i])\n",
        "\n",
        "    plt.plot(goodx,goody,\"bo\",label=\"good\")\n",
        "    plt.plot(badx,bady,\"ro\",label=\"bad\")\n",
        "\n",
        "\n",
        "\n",
        "    title=len(goodx)/(len(goodx)+len(badx))*8\n",
        "    plt.title(f\"area={title}\")\n",
        "\n",
        "    x1=np.linspace(-2,2,100)\n",
        "    y1=mycircle(x1)\n",
        "    plt.plot(x1,y1,\"k-\",label=\"function\",linewidth=4)\n",
        "\n",
        "    plt.legend()\n",
        "  else:\n",
        "    return None"
      ],
      "metadata": {
        "id": "pDnrvWT0IcV0"
      },
      "execution_count": null,
      "outputs": []
    },
    {
      "cell_type": "markdown",
      "source": [
        "### Running Your Monte Carlo Integration Function\n",
        "\n",
        "* Use your function for integrating the area under the curve in Part 1.\n",
        "* Set ```visualize=True``` to see make sure your function is behaving as expected."
      ],
      "metadata": {
        "id": "i1EIBOeHd1CQ"
      }
    },
    {
      "cell_type": "code",
      "source": [
        "# your code to calculate the area of a half circle using monte carlo\n",
        "x=np.random.uniform(-2,2,1000)\n",
        "y=np.random.uniform(0,2,1000)\n",
        "mcintegrate(x,y,visualize=True)"
      ],
      "metadata": {
        "id": "5egVlWsqemUZ",
        "colab": {
          "base_uri": "https://localhost:8080/",
          "height": 472
        },
        "outputId": "ae4c6697-eeb3-46b3-a358-5021f1fd1710"
      },
      "execution_count": null,
      "outputs": [
        {
          "output_type": "display_data",
          "data": {
            "text/plain": [
              "<Figure size 640x480 with 1 Axes>"
            ],
            "image/png": "[encoded data removed]"
          },
          "metadata": {}
        }
      ]
    }
  ]
}