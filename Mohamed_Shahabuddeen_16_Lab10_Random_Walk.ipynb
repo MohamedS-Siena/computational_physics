{
  "nbformat": 4,
  "nbformat_minor": 0,
  "metadata": {
    "colab": {
      "provenance": [],
      "include_colab_link": true
    },
    "kernelspec": {
      "name": "python3",
      "display_name": "Python 3"
    },
    "language_info": {
      "name": "python"
    }
  },
  "cells": [
    {
      "cell_type": "markdown",
      "metadata": {
        "id": "view-in-github",
        "colab_type": "text"
      },
      "source": [
        "<a href=\"https://colab.research.google.com/github/MohamedS-Siena/computational_physics/blob/main/Mohamed_Shahabuddeen_16_Lab10_Random_Walk.ipynb\" target=\"_parent\"><img src=\"https://colab.research.google.com/assets/colab-badge.svg\" alt=\"Open In Colab\"/></a>"
      ]
    },
    {
      "cell_type": "markdown",
      "source": [
        "# Expectations for All Notebooks\n",
        "* Be sure to read instructions carefully and answer all questions.\n",
        "* Use formatted printing and descriptive print statements\n",
        "* You must include comment strings for all functions\n",
        "* ALL PLOTS NEED LABELS ON X AND Y AXES\n",
        "* If more than one data set is plotted, you must include a legend.\n",
        "* Plot discrete data with points rather than a line.\n",
        "```python\n",
        "plt.plot(x, y, 'bs')\n",
        "```\n",
        "or\n",
        "```python\n",
        "plt.scatter(x,y)\n",
        "```"
      ],
      "metadata": {
        "id": "jTmZOXt7nF4E"
      }
    },
    {
      "cell_type": "markdown",
      "source": [
        "# Lab 10: Random Walk and Diffusion\n",
        "\n",
        "## Overview\n",
        "We will study:\n",
        "* random walk in 1 dimension\n",
        "* random walk in 2D\n",
        "* diffusion\n"
      ],
      "metadata": {
        "id": "99SaOa9Sa9dx"
      }
    },
    {
      "cell_type": "code",
      "source": [
        "# import numpy and pyplot\n",
        "import numpy as np\n",
        "import matplotlib.pyplot as plt"
      ],
      "metadata": {
        "id": "uBsuFks3alJr"
      },
      "execution_count": 1,
      "outputs": []
    },
    {
      "cell_type": "markdown",
      "source": [
        "# Part 0: Random Numbers\n",
        "\n",
        "### Uniform Random Numbers\n",
        "\n",
        "We will use `np.random.random` to generate random numbers between zero and 1.  \n",
        "\n",
        "* random numbers drawn from other distributions\n",
        "\n",
        "\n",
        "### Part 0a: Rolling a Die\n",
        "\n",
        "(5 points)\n",
        "\n",
        "Create a function called `rolldie` that doesn't take any input but returns a number from one to six.\n",
        "\n",
        "* Call you function 10, 100, and 1000 times, and create a histogram from the resulting values.\n",
        "\n",
        "* You should plot the three cases (10, 100,1000 rolls) side by side in one figure.\n",
        "\n",
        "**QUESTION**\n",
        "1. Comment on the distribution and how it changes as the number of rolls increases.\n"
      ],
      "metadata": {
        "id": "c5C7tQhXbJ7f"
      }
    },
    {
      "cell_type": "code",
      "source": [
        "# your function rolldie here\n",
        "def rolldie():\n",
        "  '''\n",
        "  rolls a die\n",
        "  '''\n",
        "  roll = np.random.randint(1,7)\n",
        "  return roll"
      ],
      "metadata": {
        "id": "SN9pJpcwj_mI"
      },
      "execution_count": 2,
      "outputs": []
    },
    {
      "cell_type": "code",
      "source": [
        "# call your function and make your plot here\n",
        "rolls = [10,100,1000]\n",
        "total=[]\n",
        "plt.figure(figsize=(10,4))\n",
        "for i in range(0,3):\n",
        "  for j in range(0,rolls[i]):\n",
        "    total.append(rolldie())\n",
        "  plt.subplot(1,3,i+1)\n",
        "  plt.hist(total,bins=np.arange(1,8))\n",
        "  plt.xlabel(\"die roll\")\n",
        "  plt.xticks([1,2,3,4,5,6])\n",
        "  plt.ylabel(\"count\")\n",
        "  plt.title(f\"# rolls: {rolls[i]}\")\n",
        "plt.subplots_adjust(wspace=0.4)\n"
      ],
      "metadata": {
        "id": "TuTUyaTCkOcu",
        "colab": {
          "base_uri": "https://localhost:8080/",
          "height": 410
        },
        "outputId": "7f0d44d1-d5c6-4ca8-e3d6-db42656f9c65"
      },
      "execution_count": 3,
      "outputs": [
        {
          "output_type": "display_data",
          "data": {
            "text/plain": [
              "<Figure size 1000x400 with 3 Axes>"
            ],
            "image/png": "[encoded data removed]"
          },
          "metadata": {}
        }
      ]
    },
    {
      "cell_type": "markdown",
      "source": [
        "# Part 1: Random Walkers in One Dimension\n",
        "\n",
        "* We will start with a one-dimensional random walker.\n",
        "* Assume that our walker can take a step of length 1, and that the direction is either left (negative) or right (positive).\n",
        "* The walker is equally likely to move left or right with each step.\n",
        "* To determine the direction of the step, draw a random number.  \n",
        "  * If the random number is < 0.5, then the walker steps to the left.\n",
        "  * Otherwise the walker steps right.\n",
        "* We will assume that the time between steps is fairly constant, so that the step number is directly proportional to time.\n",
        "\n",
        "### Part 1a: Write a Function\n",
        "\n",
        "(5 points)\n",
        "\n",
        "Write a function called `randomwalker` that will calculate the position of a random walker for Nsteps.\n",
        "\n",
        "Input\n",
        "* optional argument `Nsteps`, which has a default value of 100.\n",
        "* optional argument `stepsize`, which has a default value of 1.\n",
        "\n",
        "The function will:\n",
        "* initialize an array `x` of length `Nsteps` to store the x values at each step.\n",
        "* calculate the walker's position at each of the steps\n",
        "\n",
        "Return\n",
        "* the position array\n",
        "\n",
        "\n"
      ],
      "metadata": {
        "id": "eXUGIGwra6ZW"
      }
    },
    {
      "cell_type": "code",
      "source": [
        "# Your randomwalker function here\n",
        "def randomwalker(Nsteps=100,stepsize=1):\n",
        "  '''\n",
        "  creates a random position array of 'Nsteps' length with step size of 'stepsize'\n",
        "  '''\n",
        "  x=np.zeros(Nsteps)\n",
        "  for i in range(1,Nsteps):\n",
        "    direct=np.random.random()\n",
        "    if direct<0.5:\n",
        "      x[i]=x[i-1]-stepsize\n",
        "    else:\n",
        "      x[i]=x[i-1]+stepsize\n",
        "  return x\n"
      ],
      "metadata": {
        "id": "oLFC4JvdjV5U"
      },
      "execution_count": 4,
      "outputs": []
    },
    {
      "cell_type": "markdown",
      "source": [
        "### Part 1b: Two Random Walkers\n",
        "\n",
        "(5 points)\n",
        "\n",
        "* Use your `randomwalker` function to get the position of two walkers who take 100 steps.\n",
        "* Make a plot of the walker's position as a function of step number.  You should plot both walkers on the same graph, but use a different symbol for each.  Be sure to plot with points rather than a line.\n",
        "* Include all necessary labels on your graph.\n"
      ],
      "metadata": {
        "id": "Lp9T8uu-jbRb"
      }
    },
    {
      "cell_type": "code",
      "source": [
        "# your code and graph here\n",
        "p1 = randomwalker()\n",
        "p2 = randomwalker()\n",
        "\n",
        "plt.figure()\n",
        "plt.plot(np.arange(0,100),p1,\"bo\",label=\"person 1\")\n",
        "plt.plot(np.arange(0,100),p2,\"rs\",label=\"person 2\")\n",
        "plt.xlabel(\"step\")\n",
        "plt.ylabel(\"position\")\n",
        "plt.legend()"
      ],
      "metadata": {
        "id": "v-QVz_VfrgWe",
        "colab": {
          "base_uri": "https://localhost:8080/",
          "height": 466
        },
        "outputId": "736098e3-af7b-491b-ac9d-1d3dfdf40ad5"
      },
      "execution_count": 5,
      "outputs": [
        {
          "output_type": "execute_result",
          "data": {
            "text/plain": [
              "<matplotlib.legend.Legend at 0x7f750dd99750>"
            ]
          },
          "metadata": {},
          "execution_count": 5
        },
        {
          "output_type": "display_data",
          "data": {
            "text/plain": [
              "<Figure size 640x480 with 1 Axes>"
            ],
            "image/png": "[encoded data removed]"
          },
          "metadata": {}
        }
      ]
    },
    {
      "cell_type": "markdown",
      "source": [
        "### Part 1-c: Calculate the mean square distance for a large ensemble of walkers\n",
        "\n",
        "(5 points)\n",
        "\n",
        "* The goal is to create a plot of the average of the square of the distance, $\\langle x^2 \\rangle$, as a function of step number.  \n",
        "* We will calculate this for a sample of 500 walkers, where each walker takes 100 steps.\n",
        "* We will then fit $\\langle x^2 \\rangle$ as a function of step number and plot the best-fit relation with the data.\n"
      ],
      "metadata": {
        "id": "bBcFISASsQEC"
      }
    },
    {
      "cell_type": "code",
      "source": [
        "Nwalkers = 500\n",
        "Nsteps = 100\n",
        "# create an array xsq_sum to store 100 values of the x^2\n",
        "xsq_sum=np.zeros(Nsteps)\n",
        "# create a loop to call your function 500 times (or Nwalkers times)\n",
        "for i in range(0,Nwalkers):\n",
        "# after each call, square the x values that are returned and add them to xsum\n",
        "  x = randomwalker(Nsteps)\n",
        "  xsq_sum+=x**2\n",
        "# once the loop is over, divide xsum by the number of walkers to get xsq_ave\n",
        "xsq_ave=xsq_sum/Nwalkers"
      ],
      "metadata": {
        "id": "9WzTfOItgwRj"
      },
      "execution_count": 6,
      "outputs": []
    },
    {
      "cell_type": "code",
      "source": [
        "# create a plot of xsq_ave versus the number of steps.\n",
        "plt.figure()\n",
        "plt.plot(np.arange(0,Nsteps),xsq_ave,label=\"mean square\")\n",
        "plt.xlabel(\"step\")\n",
        "plt.ylabel(\"mean square of position\")\n",
        "# fit a polynomial to your data\n",
        "c=np.polyfit(np.arange(0,Nsteps),xsq_ave,1)\n",
        "line=np.polyval(c,np.arange(0,Nsteps))\n",
        "plt.plot(np.arange(0,Nsteps),line,label=\"best fit\",alpha=0.5)\n",
        "# plot the best-fit polynomial with the data\n",
        "plt.legend()\n",
        "\n",
        "slope_bf = (max(line)-min(line))/len(line)\n",
        "print(slope_bf)\n",
        "minimum = min(line)\n",
        "print(minimum)"
      ],
      "metadata": {
        "id": "hmXqdxWLt5ZC",
        "colab": {
          "base_uri": "https://localhost:8080/",
          "height": 484
        },
        "outputId": "88ed4532-f110-4025-e02a-b2f02f5eb08c"
      },
      "execution_count": 7,
      "outputs": [
        {
          "output_type": "stream",
          "name": "stdout",
          "text": [
            "0.9770807762376239\n",
            "-0.9500388118811856\n"
          ]
        },
        {
          "output_type": "display_data",
          "data": {
            "text/plain": [
              "<Figure size 640x480 with 1 Axes>"
            ],
            "image/png": "[encoded data removed]"
          },
          "metadata": {}
        }
      ]
    },
    {
      "cell_type": "markdown",
      "source": [
        "**QUESTION**\n",
        "\n",
        "2. Report Your Best-Fit Function Here\n",
        "\n",
        "$$y = 1.059x-0.205$$"
      ],
      "metadata": {
        "id": "x1aoGQWXuQs0"
      }
    },
    {
      "cell_type": "markdown",
      "source": [
        "### Part 1-d: The Relationship between the step size and best-fit slope.\n",
        "\n",
        "(5 points)\n",
        "\n",
        "Repeat the $\\langle x^2 \\rangle$ calculation for step sizes of 2, 3, and 4\n",
        "\n",
        "**QUESTIONS**\n",
        "\n",
        "3. Fill in the values for the slope\n",
        "\n",
        "| Step Size | Slope |\n",
        "|----|----|\n",
        "| 1| 1.003|\n",
        "| 2| 3.550|\n",
        "| 3| 8.793|\n",
        "| 4| 16.511|\n",
        "\n",
        "4. What is the general relation between the slope and the step size?\n",
        "\n",
        "**Your Answer Here**\n",
        "\n",
        "Slope is about equal to the square of step size.\n",
        "\n",
        "\n",
        "5. How does the root-mean-square distance $\\sqrt{\\langle x^2 \\rangle}$ scale with time?\n",
        "\n",
        "**Your Answer Here**\n",
        "\n",
        "The root mean square distance follows an exponential decay."
      ],
      "metadata": {
        "id": "wAjHUU9cuX1I"
      }
    },
    {
      "cell_type": "code",
      "source": [
        "# Your code here\n",
        "slope=[]\n",
        "for j in range(1,5):\n",
        "  Nwalkers = 500\n",
        "  Nsteps = 100\n",
        "  # create an array xsq_sum to store 100 values of the x^2\n",
        "  xsq_sum=np.zeros(Nsteps)\n",
        "  # create a loop to call your function 500 times (or Nwalkers times)\n",
        "  for i in range(0,Nwalkers):\n",
        "  # after each call, square the x values that are returned and add them to xsum\n",
        "    x = randomwalker(Nsteps,stepsize=j)\n",
        "    xsq_sum+=x**2\n",
        "  # once the loop is over, divide xsum by the number of walkers to get xsq_ave\n",
        "  xsq_ave=xsq_sum/Nwalkers\n",
        "  c=np.polyfit(np.arange(0,Nsteps),xsq_ave,1)\n",
        "  line=np.polyval(c,np.arange(0,Nsteps))\n",
        "  slope.append((max(line)-min(line))/len(line))\n",
        "print(slope)\n",
        "plt.plot(np.arange(0,Nsteps),np.sqrt(xsq_ave))"
      ],
      "metadata": {
        "id": "cFr2d5msumHA",
        "colab": {
          "base_uri": "https://localhost:8080/",
          "height": 468
        },
        "outputId": "0eb5553d-d7fa-47e0-ba22-6a849896ecae"
      },
      "execution_count": 19,
      "outputs": [
        {
          "output_type": "stream",
          "name": "stdout",
          "text": [
            "[np.float64(0.9770016475247523), np.float64(3.9722283089108914), np.float64(8.845356546534653), np.float64(14.442625520792078)]\n"
          ]
        },
        {
          "output_type": "execute_result",
          "data": {
            "text/plain": [
              "[<matplotlib.lines.Line2D at 0x7f750da5e090>]"
            ]
          },
          "metadata": {},
          "execution_count": 19
        },
        {
          "output_type": "display_data",
          "data": {
            "text/plain": [
              "<Figure size 640x480 with 1 Axes>"
            ],
            "image/png": "[encoded data removed]"
          },
          "metadata": {}
        }
      ]
    },
    {
      "cell_type": "markdown",
      "source": [
        "# Part 2: Random Walk in 2D\n",
        "\n",
        "(5 points)\n",
        "\n",
        "Simulate a random walk in two dimensions by allowing the walker to make steps of unit length in a random direction.  \n",
        "\n",
        "Show that the motion is diffusive, that is, that $\\langle r^2 \\rangle \\sim t$.  Remember that our step number is proportional to $t$.\n",
        "\n",
        "NOTE: this part is purposely short on instructions.  We are closing in on the end of the course, so I am expecting you to think through the logic and adapt previous code to address the new problem.  "
      ],
      "metadata": {
        "id": "GBUnoOmxwPuf"
      }
    },
    {
      "cell_type": "code",
      "source": [
        "# write a function randomwalker2d here\n",
        "\n"
      ],
      "metadata": {
        "id": "AAgpA2Ujw9gj"
      },
      "execution_count": 9,
      "outputs": []
    },
    {
      "cell_type": "code",
      "source": [
        "# create a test for your randomwalker2d function and plot the resulting (x,y) positions\n"
      ],
      "metadata": {
        "id": "GseipCodllW9"
      },
      "execution_count": 10,
      "outputs": []
    },
    {
      "cell_type": "code",
      "source": [
        "# determine how <r^2> scales with the number of steps, as we did in Part 1\n",
        "\n"
      ],
      "metadata": {
        "id": "GnlwuszalzRA"
      },
      "execution_count": 11,
      "outputs": []
    },
    {
      "cell_type": "markdown",
      "source": [
        "# Part 3: Brownian Motion\n",
        "\n",
        "(10 points)\n",
        "\n",
        "Let's simulate the motion of a particle in a gas as it undergoes random collisions with gas molecules.\n",
        "\n",
        "* Use your program from Part 2, but we will now confine the particle to a box of length $L=10$.  \n",
        "\n",
        "* Start the particle off in the center of the box.\n",
        "\n",
        "* If the particle gets to the edge of the box, pick another random number for its direction.   (Hint: you might want to implement this part with a `while` loop.)\n"
      ],
      "metadata": {
        "id": "8DHavGpa2n7E"
      }
    },
    {
      "cell_type": "code",
      "source": [
        "# Your code here\n",
        "\n",
        "\n",
        "\n"
      ],
      "metadata": {
        "id": "RN5PNPeg3eMH"
      },
      "execution_count": 12,
      "outputs": []
    },
    {
      "cell_type": "code",
      "source": [
        "# plot the (x,y) position of the particle using 100 steps\n"
      ],
      "metadata": {
        "id": "R303-73L3mlk"
      },
      "execution_count": 13,
      "outputs": []
    },
    {
      "cell_type": "code",
      "source": [
        "# plot the (x,y) position of the particle using 1000 steps\n"
      ],
      "metadata": {
        "id": "23rxFmkn3pK1"
      },
      "execution_count": 14,
      "outputs": []
    },
    {
      "cell_type": "code",
      "source": [],
      "metadata": {
        "id": "7YRlDsQL3sE1"
      },
      "execution_count": 14,
      "outputs": []
    },
    {
      "cell_type": "markdown",
      "source": [
        "# Part 4 - Animate your Brownian Motion!\n",
        "\n",
        "(5 pts)\n",
        "\n",
        "- We are now going to animate the motion of the particle in a gas.  Please refer to our previous animation notebook (https://colab.research.google.com/drive/1lqp_y9Ng37Mq-a7urMiZsI0fBMNdCNRJ?usp=sharing) for examples of how to use animation.\n",
        "\n",
        "- Read through the cells below and add any missing code.  Then run the animation.\n",
        "\n",
        "- Play around with the animation settings to get the speed right - we want to be able to view the particle moving.\n",
        "\n",
        "- When you have it working, try increasing the number of steps to 100 to follow the particle for a longer time."
      ],
      "metadata": {
        "id": "mEXQ1YVL3uPF"
      }
    },
    {
      "cell_type": "code",
      "source": [
        "from matplotlib.animation import FuncAnimation\n",
        "from matplotlib import rc\n"
      ],
      "metadata": {
        "id": "BXKV213d6sjG"
      },
      "execution_count": 15,
      "outputs": []
    },
    {
      "cell_type": "code",
      "source": [
        "# ANIMATION CODE\n",
        "# number of steps of random walker\n",
        "nsteps = 10\n",
        "print(f\"Our animation will have {nsteps} timesteps\")\n",
        "L = 10 # length of the box that the particle is in\n",
        "\n",
        "\n",
        "# call your random walker function to get the\n",
        "# x and y positions\n",
        "# pass in the length of the box L and the number of steps nsteps\n",
        "xrand, yrand =\n",
        "\n",
        "fig = plt.figure()\n",
        "# set the range of our axes to the size of the box\n",
        "ax = plt.axes(xlim=(0, L), ylim=(0,L))\n",
        "\n",
        "\n",
        "# We also need to create an empty point that we'll draw into each frame\n",
        "# This looks weird but it's just a regular plot...with no data in it!\n",
        "point, = ax.plot([], [], 'ro', markersize=20)\n",
        "\n",
        "# We need an initialization function that empties the point at the start\n",
        "# of the animation\n",
        "#\n",
        "# These initialization routines are fairly common in other programs and\n",
        "# routines.\n",
        "#\n",
        "# Note that all this is doing is emptying out the data!\n",
        "def init():\n",
        "    point.set_data([], [])\n",
        "    return point,\n",
        "\n",
        "# Now we need an animate function that takes in the step number\n",
        "# and sets the values for the points\n",
        "def animate(i):\n",
        "    xpos = xrand[i]\n",
        "    ypos = yrand[i]\n",
        "    point.set_data(xpos, ypos)\n",
        "    return point,\n",
        "\n",
        "# Note that the number of frames is the number of steps here, though it doesn't have to be\n",
        "# interval is the time in milliseconds between frames\n",
        "# blit is whether or not to *only* draw the new stuff, see what happens when it's False\n",
        "anim_walker = FuncAnimation(fig, animate, init_func=init,\n",
        "                               frames=nsteps, interval=100, blit=True)\n",
        "\n",
        "# We need this so it doesn't draw an extra figure\n",
        "plt.close()"
      ],
      "metadata": {
        "id": "d3HKnY5B4-Dz",
        "colab": {
          "base_uri": "https://localhost:8080/",
          "height": 106
        },
        "outputId": "47361468-3455-4660-f73b-ceb39e3f49d1"
      },
      "execution_count": 16,
      "outputs": [
        {
          "output_type": "error",
          "ename": "SyntaxError",
          "evalue": "invalid syntax (<ipython-input-16-27f0dfcbb9b8>, line 11)",
          "traceback": [
            "\u001b[0;36m  File \u001b[0;32m\"<ipython-input-16-27f0dfcbb9b8>\"\u001b[0;36m, line \u001b[0;32m11\u001b[0m\n\u001b[0;31m    xrand, yrand =\u001b[0m\n\u001b[0m                  ^\u001b[0m\n\u001b[0;31mSyntaxError\u001b[0m\u001b[0;31m:\u001b[0m invalid syntax\n"
          ]
        }
      ]
    },
    {
      "cell_type": "code",
      "source": [
        "# Run the animation here\n",
        "rc('animation', html='jshtml')\n",
        "anim_walker\n"
      ],
      "metadata": {
        "id": "aQzuNhod6g8z"
      },
      "execution_count": null,
      "outputs": []
    },
    {
      "cell_type": "markdown",
      "source": [
        "# Bonus!\n",
        "\n",
        "(3 points)\n",
        "\n",
        "Add a line to your animation of Brownian motion to show the path that the particle travels.  This should be in addition to the red point that shows its current location.\n",
        "\n",
        "Refer back to our animation notebook for help - the sine curve animation should be most helpful!"
      ],
      "metadata": {
        "id": "7TBG1rl9HZoz"
      }
    },
    {
      "cell_type": "code",
      "source": [],
      "metadata": {
        "id": "JPgNXzkP5Mys"
      },
      "execution_count": null,
      "outputs": []
    }
  ]
}